{
 "cells": [
  {
   "cell_type": "markdown",
   "id": "adult-buyer",
   "metadata": {},
   "source": [
    "# OCR demo for Coins and Medals registers\n",
    "\n",
    "This Juyptyer notebook contains code and data files for a demonstration of Optical Character Recognition on scanned coin aquisition registers for the Fitzwilliam Museum between 1975 - 1989. "
   ]
  },
  {
   "cell_type": "code",
   "execution_count": 6,
   "id": "passive-drill",
   "metadata": {},
   "outputs": [],
   "source": [
    "#!/usr/bin/python\n",
    "## Split pdf files into pages\n",
    "## Daniel Pett 11/2/2021\n",
    "__author__ = 'portableant'\n",
    "## Tested on Python 2.7.16 & Python 3.9.1 on OSX Big Sur\n",
    "## Usage example\n",
    "## python3 splitPdf.py -p . -f 1975_1989.pdf -d processed -n 1975_1989_processed -o ocr\n",
    "## On mac osx you may need to install poplar and add to path\n",
    "## brew install poplar and echo 'export PATH=\"/usr/local/opt/qt/bin:$PATH\"' >> ~/.zshrc"
   ]
  },
  {
   "cell_type": "markdown",
   "id": "joined-joining",
   "metadata": {},
   "source": [
    "To begin with, import the libraries needed for this script to run. \n",
    "\n",
    "For this you will need os, sys, argparse, Pillow, Pytesseract, PdfFileWriter and PdfFileReader"
   ]
  },
  {
   "cell_type": "code",
   "execution_count": 32,
   "id": "academic-confidentiality",
   "metadata": {},
   "outputs": [],
   "source": [
    "import argparse\n",
    "import os\n",
    "import sys\n",
    "from PIL import Image\n",
    "import pytesseract\n",
    "from PyPDF2 import PdfFileWriter, PdfFileReader\n",
    "from pdf2image import convert_from_path, pdfinfo_from_path\n"
   ]
  },
  {
   "cell_type": "markdown",
   "id": "attempted-petroleum",
   "metadata": {},
   "source": [
    "If you don't have tesseract executable in your PATH, include the following:\n",
    "\n",
    "```pytesseract.pytesseract.tesseract_cmd = r'<full_path_to_your_tesseract_executable>'```\n",
    "\n",
    "Example tesseract_cmd = r'C:\\Program Files (x86)\\Tesseract-OCR\\tesseract'\n",
    "\n",
    "As I built this on OSX, I used this path."
   ]
  },
  {
   "cell_type": "code",
   "execution_count": 8,
   "id": "angry-renewal",
   "metadata": {},
   "outputs": [],
   "source": [
    "pytesseract.pytesseract.tesseract_cmd = r'/usr/local/bin/tesseract'\n"
   ]
  },
  {
   "cell_type": "markdown",
   "id": "written-cycling",
   "metadata": {},
   "source": [
    "Next we'll be setting up our arguments for the command line script to run"
   ]
  },
  {
   "cell_type": "code",
   "execution_count": 26,
   "id": "private-process",
   "metadata": {},
   "outputs": [
    {
     "data": {
      "text/plain": [
       "_StoreAction(option_strings=['-o', '--ocr'], dest='ocr', nargs=None, const=None, default=None, type=None, choices=None, help='The ocr folder', metavar=None)"
      ]
     },
     "execution_count": 26,
     "metadata": {},
     "output_type": "execute_result"
    }
   ],
   "source": [
    "parser = argparse.ArgumentParser(description='A script for splitting pdf files into pages')\n",
    "\n",
    "parser.add_argument('-p', '--path', help='The path to the folder to process', required=True)\n",
    "parser.add_argument('-f', '--file', help='The file to process', required=True)\n",
    "parser.add_argument('-n', '--name', help='The new file name', required=True)\n",
    "parser.add_argument('-d', '--destination', help='The processed folder', required=True)\n",
    "parser.add_argument('-o', '--ocr', help='The ocr folder', required=True)\n"
   ]
  },
  {
   "cell_type": "markdown",
   "id": "cultural-shark",
   "metadata": {},
   "source": [
    "Next we'll set up the parsing of arguments sent to the script (and print them out so you can see what they are). In this demo I have sent these arguments. as shown below:"
   ]
  },
  {
   "cell_type": "code",
   "execution_count": 33,
   "id": "distant-painting",
   "metadata": {},
   "outputs": [],
   "source": [
    "### Parse arguments and create paths\n",
    "\n",
    "args = parser.parse_args(args=['--p', '.', '--f', '1975_1989.pdf', '--n', '1975_1989_processed', '--d', 'processed', '--o', 'ocr'])\n",
    "\n",
    "path = args.path\n",
    "\n",
    "destination = os.path.join(path,args.destination)\n",
    "\n",
    "ocrfolder = os.path.join(path,args.ocr)\n",
    "\n",
    "pageName = os.path.join(destination,args.name)+'%s.pdf'\n",
    "\n",
    "fileName = os.path.join(path,args.file)\n"
   ]
  },
  {
   "cell_type": "markdown",
   "id": "square-postcard",
   "metadata": {},
   "source": [
    "Now we will make the folders if they do not exist"
   ]
  },
  {
   "cell_type": "code",
   "execution_count": 28,
   "id": "documented-spell",
   "metadata": {},
   "outputs": [],
   "source": [
    "if not os.path.exists(destination):\n",
    "    os.makedirs(destination)\n",
    "\n",
    "if not os.path.exists(ocrfolder):\n",
    "    os.makedirs(ocrfolder)\n",
    "\n",
    "if not os.path.exists('images'):\n",
    "    os.makedirs('images')"
   ]
  },
  {
   "cell_type": "markdown",
   "id": "fourth-marketplace",
   "metadata": {},
   "source": [
    "Next we open the input file:"
   ]
  },
  {
   "cell_type": "code",
   "execution_count": 29,
   "id": "decimal-halloween",
   "metadata": {},
   "outputs": [],
   "source": [
    "inputpdf = PdfFileReader(open( fileName, \"rb\"))"
   ]
  },
  {
   "cell_type": "markdown",
   "id": "aware-infrared",
   "metadata": {},
   "source": [
    "Next we go through the pdf and break into pages"
   ]
  },
  {
   "cell_type": "code",
   "execution_count": 30,
   "id": "renewable-defeat",
   "metadata": {},
   "outputs": [],
   "source": [
    "for i in range(inputpdf.numPages):\n",
    "    output = PdfFileWriter()\n",
    "    output.addPage(inputpdf.getPage(i))\n",
    "    with open(pageName % (i+1), \"wb\") as outputStream:\n",
    "        output.write(outputStream)"
   ]
  },
  {
   "cell_type": "markdown",
   "id": "transsexual-humanity",
   "metadata": {},
   "source": [
    "Next we convert the pdfs to images and then run the tesseract OCR"
   ]
  },
  {
   "cell_type": "code",
   "execution_count": 31,
   "id": "impressed-saturn",
   "metadata": {},
   "outputs": [],
   "source": [
    "for file in os.listdir(destination):\n",
    "     filepath = os.path.join(destination,file)\n",
    "     if file.endswith(\".pdf\"):\n",
    "        img = convert_from_path(filepath)\n",
    "        imgName = os.path.splitext(file)[0]\n",
    "        jpgName = os.path.join('./images/',imgName + '.jpg')\n",
    "        for page in img:\n",
    "          page.save(jpgName, 'JPEG')\n",
    "          text = pytesseract.image_to_string(Image.open(jpgName), config='psm 4')\n",
    "          ocrName = os.path.join('./ocr/',imgName + '.txt')\n",
    "          with open(ocrName, mode = 'w') as f:\n",
    "            f.write(text)"
   ]
  },
  {
   "cell_type": "markdown",
   "id": "contrary-wallace",
   "metadata": {},
   "source": [
    "This has now run OCR on each image file in a loop and saved the output to a text file."
   ]
  }
 ],
 "metadata": {
  "kernelspec": {
   "display_name": "Python 3",
   "language": "python",
   "name": "python3"
  },
  "language_info": {
   "codemirror_mode": {
    "name": "ipython",
    "version": 3
   },
   "file_extension": ".py",
   "mimetype": "text/x-python",
   "name": "python",
   "nbconvert_exporter": "python",
   "pygments_lexer": "ipython3",
   "version": "3.9.1"
  }
 },
 "nbformat": 4,
 "nbformat_minor": 5
}
